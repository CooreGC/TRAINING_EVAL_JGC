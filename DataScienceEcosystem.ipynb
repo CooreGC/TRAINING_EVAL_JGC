{
 "cells": [
  {
   "cell_type": "markdown",
   "id": "9d9e43cf",
   "metadata": {},
   "source": [
    "# Data Science tools and Ecosystems"
   ]
  },
  {
   "cell_type": "markdown",
   "id": "df0f1f26",
   "metadata": {},
   "source": [
    "## Author:\n",
    "Jorge Garcia Cruz"
   ]
  },
  {
   "attachments": {},
   "cell_type": "markdown",
   "id": "6c92eda5",
   "metadata": {},
   "source": [
    "In this notebook, Data Science Tools and Ecosystem are summarized"
   ]
  },
  {
   "attachments": {},
   "cell_type": "markdown",
   "id": "d342f5cc",
   "metadata": {},
   "source": [
    "**Objectives:**\n",
    "* Understand what are the various tools available to analyze data and drive conclusions\n",
    "* Identify the criteria for determining the language to learn, and know the list of roles in data science\n",
    "* List the scientific computing, machine learning and deep learning libraries in Python as well as other libraries available for other languages\n",
    "* Define a Jupyter notebook, know how to use Jupiter lab and Jupyter Notebooks\n",
    "* Understand what is R, list R capabilities, become familiar with Rstudio environment and know the R libraries for data science\n"
   ]
  },
  {
   "attachments": {},
   "cell_type": "markdown",
   "id": "b24814d0",
   "metadata": {},
   "source": [
    "Some of the popular languages that Data Scientists use are:"
   ]
  },
  {
   "cell_type": "markdown",
   "id": "d046d903",
   "metadata": {},
   "source": [
    "1. PHYTON\n",
    "2. R\n",
    "3. SQL"
   ]
  },
  {
   "attachments": {},
   "cell_type": "markdown",
   "id": "59f34fa6",
   "metadata": {},
   "source": [
    "Some of the commonly used libraries used by Data Scientists include:"
   ]
  },
  {
   "cell_type": "markdown",
   "id": "9c242cfb",
   "metadata": {},
   "source": [
    "1. Pandas\n",
    "2. NumPy\n",
    "3. MatPlotlib\n",
    "4. Seaborn\n",
    "5. Scikit-learn\n",
    "6. Keras\n",
    "7. Tensorflow\n",
    "8. Pytorch\n",
    "9. Apache Stark\n",
    "10. Scala\n",
    "11. ggplot2\n"
   ]
  },
  {
   "cell_type": "markdown",
   "id": "b8a8fd95",
   "metadata": {},
   "source": [
    "<table>\n",
    "  <thead>\n",
    "    <tr>\n",
    "      <th>Data Science Tools</th>\n",
    "    </tr>\n",
    "  </thead>\n",
    "  <tbody>\n",
    "    <tr>\n",
    "      <td>Jupyter</td>\n",
    "    </tr>\n",
    "    <tr>\n",
    "      <td>RStudio</td>\n",
    "    </tr>\n",
    "       <tr>\n",
    "      <td>Spyder</td>\n",
    "    </tr>\n",
    "  </tbody>\n",
    "</table>"
   ]
  },
  {
   "cell_type": "markdown",
   "id": "3e5a42a3",
   "metadata": {},
   "source": [
    "Below are a few examples of evaluating arithmetic expressions in Python"
   ]
  },
  {
   "cell_type": "code",
   "execution_count": 1,
   "id": "08e27d0f",
   "metadata": {},
   "outputs": [],
   "source": [
    "#This a simple arithmetic expression to mutiply then add integers."
   ]
  },
  {
   "cell_type": "code",
   "execution_count": 2,
   "id": "4ae203fe",
   "metadata": {},
   "outputs": [
    {
     "data": {
      "text/plain": [
       "17"
      ]
     },
     "execution_count": 2,
     "metadata": {},
     "output_type": "execute_result"
    }
   ],
   "source": [
    "(3*4)+5 "
   ]
  },
  {
   "cell_type": "code",
   "execution_count": 3,
   "id": "a15abb1a",
   "metadata": {},
   "outputs": [],
   "source": [
    "#This will convert 200 minutes to hours by diving by 60"
   ]
  },
  {
   "cell_type": "code",
   "execution_count": 4,
   "id": "41b45a1c",
   "metadata": {},
   "outputs": [
    {
     "data": {
      "text/plain": [
       "3.3333333333333335"
      ]
     },
     "execution_count": 4,
     "metadata": {},
     "output_type": "execute_result"
    }
   ],
   "source": [
    "200/60"
   ]
  },
  {
   "cell_type": "code",
   "execution_count": null,
   "id": "db140bfd",
   "metadata": {},
   "outputs": [],
   "source": []
  }
 ],
 "metadata": {
  "kernelspec": {
   "display_name": "Python 3 (ipykernel)",
   "language": "python",
   "name": "python3"
  },
  "language_info": {
   "codemirror_mode": {
    "name": "ipython",
    "version": 3
   },
   "file_extension": ".py",
   "mimetype": "text/x-python",
   "name": "python",
   "nbconvert_exporter": "python",
   "pygments_lexer": "ipython3",
   "version": "3.10.9"
  }
 },
 "nbformat": 4,
 "nbformat_minor": 5
}
